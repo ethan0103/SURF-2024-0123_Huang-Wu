{
 "cells": [
  {
   "cell_type": "markdown",
   "metadata": {},
   "source": [
    "# WESAD\n",
    "###  A Multimodal Dataset for Wearable Stress and Affect Detection\n",
    "\n",
    "##### Matthew Johnson, 2019\n",
    "\n",
    "===============================================================================================================\n",
    "\n",
    "\n",
    "### Dataset Information [1]:\n",
    "Data Set Information:\n",
    "\n",
    "WESAD is a publicly available dataset for wearable stress and affect detection. This multimodal dataset features physiological and motion data, recorded from both a wrist- and a chest-worn device, of 15 subjects during a lab study. The following sensor modalities are included: blood volume pulse, electrocardiogram, electrodermal activity, electromyogram, respiration, body temperature, and three-axis acceleration. Moreover, the dataset bridges the gap between previous lab studies on stress and emotions, by containing three different affective states (neutral, stress, amusement). In addition, self-reports of the subjects, which were obtained using several established questionnaires, are contained in the dataset. Details can be found in the dataset's readme-file, as well as in [1].\n",
    "\n",
    "\n",
    "Attribute Information:\n",
    "\n",
    "Raw sensor data was recorded with two devices: a chest-worn device (RespiBAN) and a wrist-worn device (Empatica E4). \n",
    "The RespiBAN device provides the following sensor data: electrocardiogram (ECG), electrodermal activity (EDA), electromyogram (EMG), respiration, body temperature, and three-axis acceleration. All signals are sampled at 700 Hz. \n",
    "The Empatica E4 device provides the following sensor data: blood volume pulse (BVP, 64 Hz), electrodermal activity (EDA, 4 Hz), body temperature (4 Hz), and three-axis acceleration (32 Hz). \n",
    "\n",
    "The dataset's readme-file contains all further details with respect to the dataset structure, data format (RespiBAN device, Empatica E4 device, synchronised data), study protocol, and the self-report questionnaires.\n",
    "\n",
    "\n",
    "- https://archive.ics.uci.edu/ml/datasets/WESAD+%28Wearable+Stress+and+Affect+Detection%29\n",
    "\n",
    "\n",
    "\n",
    "### Classes\n",
    "\n",
    "**Baseline condition**: 20 minute period of standing/sitting reading magazines.<br>\n",
    "**Amusement condition**: During the amusement condition, the\n",
    "subjects watched a set of eleven funny video clips.<br>\n",
    "**Stress condition**: Trier Social Stress Test (TSST), consisting of public speaking and mental arithmetic.\n",
    "\n",
    "\n",
    "\n",
    "\n",
    "------------\n",
    "   \n",
    "#### References\n",
    "\n",
    "[1] Schmidt, Philip & Reiss, Attila & Duerichen, Robert & Marberger, Claus & Van Laerhoven, Kristof. (2018). Introducing WESAD, a Multimodal Dataset for Wearable Stress and Affect Detection. 400-408. 10.1145/3242969.3242985.  https://dl.acm.org/citation.cfm?doid=3242969.3242985\n",
    "\n",
    "[2] A Greco, G Valenza, A Lanata, EP Scilingo, and L Citi\n",
    "\"cvxEDA: a Convex Optimization Approach to Electrodermal Activity Processing\"\n",
    "IEEE Transactions on Biomedical Engineering, 2015\n",
    "DOI: 10.1109/TBME.2015.2474131\n",
    "https://github.com/lciti/cvxEDA\n",
    "\n",
    "[3] J. Choi, B. Ahmed, and R. Gutierrez-Osuna. 2012. Development and evaluation\n",
    "of an ambulatory stress monitor based on wearable sensors. IEEE Transactions\n",
    "on Information Technology in Biomedicine 16, 2 (2012).  \n",
    "    http://research.cs.tamu.edu/prism/publications/choi2011ambulatoryStressMonitor.pdf\n",
    "    \n",
    "[6] J. Healey and **R. Picard.** 2005. Detecting stress during real-world driving tasks\n",
    "using physiological sensors. IEEE Transactions on Intelligent Transportation\n",
    "Systems 6, 2 (2005), 156–166.  \n",
    "\n",
    "\n",
    "#### Useful Resources:\n",
    "- https://github.com/jaganjag/stress_affect_detection\n",
    "- https://github.com/arsen-movsesyan/springboard_WESAD\n",
    "- https://www.birmingham.ac.uk/Documents/college-les/psych/saal/guide-electrodermal-activity.pdf\n",
    "- http://research.cs.tamu.edu/prism/publications/choi2011ambulatoryStressMonitor.pdf"
   ]
  },
  {
   "cell_type": "markdown",
   "metadata": {},
   "source": [
    " TODO: \n",
    "        - add early stopping?\n",
    "        - maybe change to binary classification (stress, not-stress)?"
   ]
  },
  {
   "cell_type": "markdown",
   "metadata": {},
   "source": [
    "## Dataset and Dataloading"
   ]
  },
  {
   "cell_type": "code",
   "metadata": {
    "ExecuteTime": {
     "end_time": "2024-07-02T05:45:26.682793Z",
     "start_time": "2024-07-02T05:45:22.963070Z"
    }
   },
   "source": [
    "import os\n",
    "import pickle\n",
    "import numpy as np\n",
    "import pandas as pd\n",
    "import matplotlib.pyplot as plt\n",
    "import seaborn as sns\n",
    "%matplotlib inline\n",
    "import torch\n",
    "import torch.nn as nn\n",
    "import warnings\n",
    "warnings.filterwarnings('ignore')\n",
    "from torch.utils.data import Dataset\n",
    "from sklearn.metrics import confusion_matrix\n",
    "\n",
    "\n",
    "class WESADDataset(Dataset):\n",
    "    def __init__(self, dataframe):\n",
    "        self.dataframe = dataframe.drop('subject', axis=1)\n",
    "        self.labels = self.dataframe['label'].values\n",
    "        self.dataframe.drop('label', axis=1, inplace=True)\n",
    "        \n",
    "    def __getitem__(self, idx):\n",
    "        x = self.dataframe.iloc[idx].values\n",
    "        y = self.labels[idx]\n",
    "        return torch.Tensor(x), y\n",
    "\n",
    "    def __len__(self):\n",
    "        return len(self.dataframe)"
   ],
   "outputs": [],
   "execution_count": 1
  },
  {
   "cell_type": "markdown",
   "metadata": {},
   "source": [
    "### Cross Validation Loader"
   ]
  },
  {
   "cell_type": "code",
   "metadata": {
    "ExecuteTime": {
     "end_time": "2024-07-02T05:45:26.692206Z",
     "start_time": "2024-07-02T05:45:26.684798Z"
    }
   },
   "source": [
    "feats =   ['BVP_mean', 'BVP_std', 'BVP_min', 'BVP_max',\n",
    "           'EDA_phasic_mean', 'EDA_phasic_std', 'EDA_phasic_min', 'EDA_phasic_max', 'EDA_smna_mean',\n",
    "           'EDA_smna_std', 'EDA_smna_min', 'EDA_smna_max', 'EDA_tonic_mean',\n",
    "           'EDA_tonic_std', 'EDA_tonic_min', 'EDA_tonic_max', 'Resp_mean',\n",
    "           'Resp_std', 'Resp_min', 'Resp_max', 'TEMP_mean', 'TEMP_std', 'TEMP_min',\n",
    "           'TEMP_max', 'TEMP_slope', 'BVP_peak_freq', 'age', 'height',\n",
    "           'weight','subject', 'label']\n",
    "layer_1_dim = len(feats) -2\n",
    "print(layer_1_dim)"
   ],
   "outputs": [
    {
     "name": "stdout",
     "output_type": "stream",
     "text": [
      "29\n"
     ]
    }
   ],
   "execution_count": 2
  },
  {
   "cell_type": "code",
   "metadata": {
    "ExecuteTime": {
     "end_time": "2024-07-02T05:45:26.703065Z",
     "start_time": "2024-07-02T05:45:26.694217Z"
    }
   },
   "source": [
    "def get_data_loaders(df, subject_id, train_batch_size=25, test_batch_size=5):\n",
    "    #df = pd.read_csv('data/m14_merged.csv', index_col=0)[feats]\n",
    "\n",
    "    train_df = df[ df['subject'] != subject_id].reset_index(drop=True)\n",
    "    test_df = df[ df['subject'] == subject_id].reset_index(drop=True)\n",
    "    \n",
    "    train_dset = WESADDataset(train_df)\n",
    "    test_dset = WESADDataset(test_df)\n",
    "\n",
    "    train_loader = torch.utils.data.DataLoader(train_dset, batch_size=train_batch_size, shuffle=True)\n",
    "    test_loader = torch.utils.data.DataLoader(test_dset, batch_size=test_batch_size)\n",
    "    \n",
    "    return train_loader, test_loader"
   ],
   "outputs": [],
   "execution_count": 3
  },
  {
   "cell_type": "markdown",
   "metadata": {},
   "source": [
    "## Network Architecture"
   ]
  },
  {
   "cell_type": "code",
   "metadata": {
    "ExecuteTime": {
     "end_time": "2024-07-02T05:45:26.713419Z",
     "start_time": "2024-07-02T05:45:26.705084Z"
    }
   },
   "source": [
    "class StressNet(nn.Module):\n",
    "    def __init__(self):\n",
    "        super(StressNet, self).__init__()\n",
    "        self.fc = nn.Sequential(\n",
    "                        nn.Linear(29, 128),\n",
    "                        #nn.Dropout(0.5),\n",
    "                        nn.ReLU(),\n",
    "                        nn.Linear(128, 256),\n",
    "                        #nn.Dropout(0.5),\n",
    "                        nn.ReLU(),\n",
    "                        nn.Linear(256, 2),\n",
    "                        #nn.Dropout(0.5),\n",
    "                        nn.LogSoftmax(dim=1))\n",
    "        \n",
    "    def forward(self, x):\n",
    "        return self.fc(x)    "
   ],
   "outputs": [],
   "execution_count": 4
  },
  {
   "cell_type": "markdown",
   "metadata": {},
   "source": [
    "## Model Training"
   ]
  },
  {
   "cell_type": "code",
   "metadata": {
    "ExecuteTime": {
     "end_time": "2024-07-02T05:45:26.729750Z",
     "start_time": "2024-07-02T05:45:26.715428Z"
    }
   },
   "source": [
    "def train(model, optimizer, train_loader, validation_loader):\n",
    "    history = {'train_loss': {}, 'train_acc': {}, 'valid_loss': {}, 'valid_acc': {}}\n",
    "    #\n",
    "    for epoch in range(num_epochs):\n",
    "\n",
    "        # Train:   \n",
    "        total = 0\n",
    "        correct = 0\n",
    "        trainlosses = []\n",
    "\n",
    "        for batch_index, (images, labels) in enumerate(train_loader):\n",
    "\n",
    "            # Send to GPU (device)\n",
    "            images, labels = images.to(device), labels.to(device)\n",
    "\n",
    "            # Forward pass\n",
    "            outputs = model(images.float())\n",
    "\n",
    "            # Loss\n",
    "            loss = criterion(outputs, labels)\n",
    "\n",
    "            # Backward and optimize\n",
    "            optimizer.zero_grad()\n",
    "            loss.backward()\n",
    "            optimizer.step()\n",
    "\n",
    "            trainlosses.append(loss.item())\n",
    "\n",
    "            # Compute accuracy\n",
    "            _, argmax = torch.max(outputs, 1)\n",
    "            correct += (labels == argmax).sum().item() #.mean()\n",
    "            total += len(labels)\n",
    "\n",
    "        history['train_loss'][epoch] = np.mean(trainlosses) \n",
    "        history['train_acc'][epoch] = correct/total \n",
    "\n",
    "        if epoch % 10 == 0:\n",
    "            with torch.no_grad():\n",
    "\n",
    "                losses = []\n",
    "                total = 0\n",
    "                correct = 0\n",
    "\n",
    "                for images, labels in validation_loader:\n",
    "                    # \n",
    "                    images, labels = images.to(device), labels.to(device)\n",
    "\n",
    "                    # Forward pass\n",
    "                    outputs = model(images.float())\n",
    "                    loss = criterion(outputs, labels)\n",
    "\n",
    "                    # Compute accuracy\n",
    "                    _, argmax = torch.max(outputs, 1)\n",
    "                    correct += (labels == argmax).sum().item() #.mean()\n",
    "                    total += len(labels)\n",
    "\n",
    "                    losses.append(loss.item())\n",
    "                    \n",
    "                history['valid_acc'][epoch] = np.round(correct/total, 3)\n",
    "                history['valid_loss'][epoch] = np.mean(losses)\n",
    "\n",
    "                print(f'Epoch [{epoch+1}/{num_epochs}], Loss: {np.mean(losses):.4}, Acc: {correct/total:.2}')\n",
    "                \n",
    "    return history"
   ],
   "outputs": [],
   "execution_count": 5
  },
  {
   "cell_type": "code",
   "metadata": {
    "ExecuteTime": {
     "end_time": "2024-07-02T05:45:26.743775Z",
     "start_time": "2024-07-02T05:45:26.731757Z"
    }
   },
   "source": [
    "def test(model, validation_loader):\n",
    "    print('Evaluating model...')\n",
    "    # Test\n",
    "    model.eval()\n",
    "\n",
    "    total = 0\n",
    "    correct = 0\n",
    "    testlosses = []\n",
    "    correct_labels = []\n",
    "    predictions = []\n",
    "\n",
    "    with torch.no_grad():\n",
    "\n",
    "        for batch_index, (images, labels) in enumerate(validation_loader):\n",
    "            # Send to GPU (device)\n",
    "            images, labels = images.to(device), labels.to(device)\n",
    "\n",
    "            # Forward pass\n",
    "            outputs = model(images.float())\n",
    "\n",
    "            # Loss\n",
    "            loss = criterion(outputs, labels)\n",
    "\n",
    "            testlosses.append(loss.item())\n",
    "\n",
    "            # Compute accuracy\n",
    "            _, argmax = torch.max(outputs, 1)\n",
    "            correct += (labels == argmax).sum().item() #.mean()\n",
    "            total += len(labels)\n",
    "\n",
    "            correct_labels.extend(labels)\n",
    "            predictions.extend(argmax)\n",
    "\n",
    "\n",
    "    test_loss = np.mean(testlosses)\n",
    "    accuracy = np.round(correct/total, 2)\n",
    "    print(f'Loss: {test_loss:.4}, Acc: {accuracy:.2}')\n",
    "    \n",
    "    y_true = [label.item() for label in correct_labels]\n",
    "    y_pred = [label.item() for label in predictions]\n",
    "\n",
    "    cm = confusion_matrix(y_true, y_pred)\n",
    "    # TODO: return y true and y pred, make cm after ( use ytrue/ypred for classification report)\n",
    "    # return [y_true, y_pred, test_loss, accuracy]\n",
    "    return cm, test_loss, accuracy"
   ],
   "outputs": [],
   "execution_count": 6
  },
  {
   "cell_type": "markdown",
   "metadata": {},
   "source": [
    "## Start Here"
   ]
  },
  {
   "cell_type": "code",
   "metadata": {
    "ExecuteTime": {
     "end_time": "2024-07-02T05:45:26.812400Z",
     "start_time": "2024-07-02T05:45:26.748807Z"
    }
   },
   "source": [
    "df = pd.read_csv('data/m14_merged.csv', index_col=0)\n",
    "subject_id_list = df['subject'].unique()\n",
    "df.head()"
   ],
   "outputs": [
    {
     "data": {
      "text/plain": [
       "   net_acc_mean  net_acc_std  net_acc_min  net_acc_max  ACC_x_mean  ACC_x_std  \\\n",
       "0      0.029937     0.009942     0.000000     0.087383    0.029510   0.011145   \n",
       "1      0.021986     0.015845     0.000000     0.071558    0.017352   0.020817   \n",
       "2      0.020839     0.011034     0.002752     0.054356    0.020839   0.011034   \n",
       "3      0.034449     0.003185     0.013761     0.040595    0.034449   0.003185   \n",
       "4      0.028870     0.004379     0.013761     0.038531    0.028870   0.004379   \n",
       "\n",
       "   ACC_x_min  ACC_x_max  ACC_y_mean  ACC_y_std  ...  age  height  weight  \\\n",
       "0  -0.024082   0.087383    0.000020   0.000008  ...   27     175      80   \n",
       "1  -0.037843   0.071558    0.000012   0.000014  ...   27     175      80   \n",
       "2   0.002752   0.054356    0.000014   0.000008  ...   27     175      80   \n",
       "3   0.013761   0.040595    0.000024   0.000002  ...   27     175      80   \n",
       "4   0.013761   0.038531    0.000020   0.000003  ...   27     175      80   \n",
       "\n",
       "   gender_ female  gender_ male  coffee_today_YES  sport_today_YES  smoker_NO  \\\n",
       "0               0             1                 0                0          1   \n",
       "1               0             1                 0                0          1   \n",
       "2               0             1                 0                0          1   \n",
       "3               0             1                 0                0          1   \n",
       "4               0             1                 0                0          1   \n",
       "\n",
       "   smoker_YES  feel_ill_today_YES  \n",
       "0           0                   0  \n",
       "1           0                   0  \n",
       "2           0                   0  \n",
       "3           0                   0  \n",
       "4           0                   0  \n",
       "\n",
       "[5 rows x 58 columns]"
      ],
      "text/html": [
       "<div>\n",
       "<style scoped>\n",
       "    .dataframe tbody tr th:only-of-type {\n",
       "        vertical-align: middle;\n",
       "    }\n",
       "\n",
       "    .dataframe tbody tr th {\n",
       "        vertical-align: top;\n",
       "    }\n",
       "\n",
       "    .dataframe thead th {\n",
       "        text-align: right;\n",
       "    }\n",
       "</style>\n",
       "<table border=\"1\" class=\"dataframe\">\n",
       "  <thead>\n",
       "    <tr style=\"text-align: right;\">\n",
       "      <th></th>\n",
       "      <th>net_acc_mean</th>\n",
       "      <th>net_acc_std</th>\n",
       "      <th>net_acc_min</th>\n",
       "      <th>net_acc_max</th>\n",
       "      <th>ACC_x_mean</th>\n",
       "      <th>ACC_x_std</th>\n",
       "      <th>ACC_x_min</th>\n",
       "      <th>ACC_x_max</th>\n",
       "      <th>ACC_y_mean</th>\n",
       "      <th>ACC_y_std</th>\n",
       "      <th>...</th>\n",
       "      <th>age</th>\n",
       "      <th>height</th>\n",
       "      <th>weight</th>\n",
       "      <th>gender_ female</th>\n",
       "      <th>gender_ male</th>\n",
       "      <th>coffee_today_YES</th>\n",
       "      <th>sport_today_YES</th>\n",
       "      <th>smoker_NO</th>\n",
       "      <th>smoker_YES</th>\n",
       "      <th>feel_ill_today_YES</th>\n",
       "    </tr>\n",
       "  </thead>\n",
       "  <tbody>\n",
       "    <tr>\n",
       "      <th>0</th>\n",
       "      <td>0.029937</td>\n",
       "      <td>0.009942</td>\n",
       "      <td>0.000000</td>\n",
       "      <td>0.087383</td>\n",
       "      <td>0.029510</td>\n",
       "      <td>0.011145</td>\n",
       "      <td>-0.024082</td>\n",
       "      <td>0.087383</td>\n",
       "      <td>0.000020</td>\n",
       "      <td>0.000008</td>\n",
       "      <td>...</td>\n",
       "      <td>27</td>\n",
       "      <td>175</td>\n",
       "      <td>80</td>\n",
       "      <td>0</td>\n",
       "      <td>1</td>\n",
       "      <td>0</td>\n",
       "      <td>0</td>\n",
       "      <td>1</td>\n",
       "      <td>0</td>\n",
       "      <td>0</td>\n",
       "    </tr>\n",
       "    <tr>\n",
       "      <th>1</th>\n",
       "      <td>0.021986</td>\n",
       "      <td>0.015845</td>\n",
       "      <td>0.000000</td>\n",
       "      <td>0.071558</td>\n",
       "      <td>0.017352</td>\n",
       "      <td>0.020817</td>\n",
       "      <td>-0.037843</td>\n",
       "      <td>0.071558</td>\n",
       "      <td>0.000012</td>\n",
       "      <td>0.000014</td>\n",
       "      <td>...</td>\n",
       "      <td>27</td>\n",
       "      <td>175</td>\n",
       "      <td>80</td>\n",
       "      <td>0</td>\n",
       "      <td>1</td>\n",
       "      <td>0</td>\n",
       "      <td>0</td>\n",
       "      <td>1</td>\n",
       "      <td>0</td>\n",
       "      <td>0</td>\n",
       "    </tr>\n",
       "    <tr>\n",
       "      <th>2</th>\n",
       "      <td>0.020839</td>\n",
       "      <td>0.011034</td>\n",
       "      <td>0.002752</td>\n",
       "      <td>0.054356</td>\n",
       "      <td>0.020839</td>\n",
       "      <td>0.011034</td>\n",
       "      <td>0.002752</td>\n",
       "      <td>0.054356</td>\n",
       "      <td>0.000014</td>\n",
       "      <td>0.000008</td>\n",
       "      <td>...</td>\n",
       "      <td>27</td>\n",
       "      <td>175</td>\n",
       "      <td>80</td>\n",
       "      <td>0</td>\n",
       "      <td>1</td>\n",
       "      <td>0</td>\n",
       "      <td>0</td>\n",
       "      <td>1</td>\n",
       "      <td>0</td>\n",
       "      <td>0</td>\n",
       "    </tr>\n",
       "    <tr>\n",
       "      <th>3</th>\n",
       "      <td>0.034449</td>\n",
       "      <td>0.003185</td>\n",
       "      <td>0.013761</td>\n",
       "      <td>0.040595</td>\n",
       "      <td>0.034449</td>\n",
       "      <td>0.003185</td>\n",
       "      <td>0.013761</td>\n",
       "      <td>0.040595</td>\n",
       "      <td>0.000024</td>\n",
       "      <td>0.000002</td>\n",
       "      <td>...</td>\n",
       "      <td>27</td>\n",
       "      <td>175</td>\n",
       "      <td>80</td>\n",
       "      <td>0</td>\n",
       "      <td>1</td>\n",
       "      <td>0</td>\n",
       "      <td>0</td>\n",
       "      <td>1</td>\n",
       "      <td>0</td>\n",
       "      <td>0</td>\n",
       "    </tr>\n",
       "    <tr>\n",
       "      <th>4</th>\n",
       "      <td>0.028870</td>\n",
       "      <td>0.004379</td>\n",
       "      <td>0.013761</td>\n",
       "      <td>0.038531</td>\n",
       "      <td>0.028870</td>\n",
       "      <td>0.004379</td>\n",
       "      <td>0.013761</td>\n",
       "      <td>0.038531</td>\n",
       "      <td>0.000020</td>\n",
       "      <td>0.000003</td>\n",
       "      <td>...</td>\n",
       "      <td>27</td>\n",
       "      <td>175</td>\n",
       "      <td>80</td>\n",
       "      <td>0</td>\n",
       "      <td>1</td>\n",
       "      <td>0</td>\n",
       "      <td>0</td>\n",
       "      <td>1</td>\n",
       "      <td>0</td>\n",
       "      <td>0</td>\n",
       "    </tr>\n",
       "  </tbody>\n",
       "</table>\n",
       "<p>5 rows × 58 columns</p>\n",
       "</div>"
      ]
     },
     "execution_count": 7,
     "metadata": {},
     "output_type": "execute_result"
    }
   ],
   "execution_count": 7
  },
  {
   "cell_type": "code",
   "metadata": {
    "ExecuteTime": {
     "end_time": "2024-07-02T05:45:26.821928Z",
     "start_time": "2024-07-02T05:45:26.814408Z"
    }
   },
   "source": [
    "def change_label(label):\n",
    "    if label == 0 or label == 1:\n",
    "        return 0\n",
    "    else:\n",
    "        return 1\n",
    "    \n",
    "df['label'] = df['label'].apply(change_label)"
   ],
   "outputs": [],
   "execution_count": 8
  },
  {
   "cell_type": "code",
   "metadata": {
    "ExecuteTime": {
     "end_time": "2024-07-02T05:45:26.832403Z",
     "start_time": "2024-07-02T05:45:26.823944Z"
    }
   },
   "source": [
    "df = df[feats]"
   ],
   "outputs": [],
   "execution_count": 9
  },
  {
   "cell_type": "code",
   "metadata": {
    "ExecuteTime": {
     "end_time": "2024-07-02T05:55:54.112407Z",
     "start_time": "2024-07-02T05:45:26.835411Z"
    }
   },
   "source": [
    "# Batch sizes\n",
    "train_batch_size = 25\n",
    "test_batch_size = 5\n",
    "\n",
    "# Learning Rate\n",
    "learning_rate = 5e-3\n",
    "\n",
    "# Device\n",
    "device = torch.device('cuda' if torch.cuda.is_available() else 'cpu')\n",
    "\n",
    "# Number of Epochs\n",
    "num_epochs = 100\n",
    "\n",
    "# Loss and optimizer\n",
    "criterion = nn.CrossEntropyLoss()\n",
    "\n",
    "# models = [] # save models at all/ directly?\n",
    "histories = []\n",
    "confusion_matrices = []\n",
    "test_losses = []\n",
    "test_accs = []\n",
    "\n",
    "for _ in subject_id_list:\n",
    "    print('\\nSubject: ', _)\n",
    "    model = StressNet().to(device)\n",
    "    optimizer = torch.optim.Adam(model.parameters(), lr=learning_rate)\n",
    "    \n",
    "    train_loader, test_loader = get_data_loaders(df, _)\n",
    "    \n",
    "    history = train(model, optimizer, train_loader, test_loader)\n",
    "    histories.append(history)\n",
    "    \n",
    "    cm, test_loss, test_acc = test(model, test_loader)\n",
    "    test_losses.append(test_loss)\n",
    "    test_accs.append(test_acc)\n",
    "    confusion_matrices.append(cm)"
   ],
   "outputs": [
    {
     "name": "stdout",
     "output_type": "stream",
     "text": [
      "\n",
      "Subject:  2\n",
      "Epoch [1/100], Loss: 0.7057, Acc: 0.59\n",
      "Epoch [11/100], Loss: 0.2625, Acc: 0.89\n",
      "Epoch [21/100], Loss: 0.3932, Acc: 0.84\n",
      "Epoch [31/100], Loss: 0.3284, Acc: 0.89\n",
      "Epoch [41/100], Loss: 0.2318, Acc: 0.93\n",
      "Epoch [51/100], Loss: 0.3654, Acc: 0.84\n",
      "Epoch [61/100], Loss: 0.2762, Acc: 0.88\n",
      "Epoch [71/100], Loss: 0.1571, Acc: 0.93\n",
      "Epoch [81/100], Loss: 0.2966, Acc: 0.91\n",
      "Epoch [91/100], Loss: 0.2664, Acc: 0.93\n",
      "Evaluating model...\n",
      "Loss: 0.4452, Acc: 0.87\n",
      "\n",
      "Subject:  3\n",
      "Epoch [1/100], Loss: 0.6205, Acc: 0.68\n",
      "Epoch [11/100], Loss: 0.9763, Acc: 0.74\n",
      "Epoch [21/100], Loss: 0.5557, Acc: 0.79\n",
      "Epoch [31/100], Loss: 0.4365, Acc: 0.81\n",
      "Epoch [41/100], Loss: 0.6278, Acc: 0.79\n",
      "Epoch [51/100], Loss: 0.5254, Acc: 0.79\n",
      "Epoch [61/100], Loss: 0.4925, Acc: 0.75\n",
      "Epoch [71/100], Loss: 0.6505, Acc: 0.74\n",
      "Epoch [81/100], Loss: 0.5517, Acc: 0.82\n",
      "Epoch [91/100], Loss: 0.7323, Acc: 0.79\n",
      "Evaluating model...\n",
      "Loss: 0.5303, Acc: 0.71\n",
      "\n",
      "Subject:  4\n",
      "Epoch [1/100], Loss: 0.5087, Acc: 0.76\n",
      "Epoch [11/100], Loss: 0.03813, Acc: 1.0\n",
      "Epoch [21/100], Loss: 0.01942, Acc: 1.0\n",
      "Epoch [31/100], Loss: 0.05394, Acc: 0.99\n",
      "Epoch [41/100], Loss: 0.06929, Acc: 0.97\n",
      "Epoch [51/100], Loss: 0.001538, Acc: 1.0\n",
      "Epoch [61/100], Loss: 0.01609, Acc: 1.0\n",
      "Epoch [71/100], Loss: 0.06536, Acc: 0.96\n",
      "Epoch [81/100], Loss: 0.003354, Acc: 1.0\n",
      "Epoch [91/100], Loss: 0.07608, Acc: 0.97\n",
      "Evaluating model...\n",
      "Loss: 0.001977, Acc: 1.0\n",
      "\n",
      "Subject:  5\n",
      "Epoch [1/100], Loss: 0.7146, Acc: 0.62\n",
      "Epoch [11/100], Loss: 0.09142, Acc: 0.96\n",
      "Epoch [21/100], Loss: 0.1912, Acc: 0.94\n",
      "Epoch [31/100], Loss: 0.04588, Acc: 0.97\n",
      "Epoch [41/100], Loss: 0.6532, Acc: 0.85\n",
      "Epoch [51/100], Loss: 0.03017, Acc: 0.99\n",
      "Epoch [61/100], Loss: 0.02358, Acc: 1.0\n",
      "Epoch [71/100], Loss: 0.03699, Acc: 0.97\n",
      "Epoch [81/100], Loss: 0.003012, Acc: 1.0\n",
      "Epoch [91/100], Loss: 0.03229, Acc: 1.0\n",
      "Evaluating model...\n",
      "Loss: 0.02006, Acc: 1.0\n",
      "\n",
      "Subject:  6\n",
      "Epoch [1/100], Loss: 0.483, Acc: 0.71\n",
      "Epoch [11/100], Loss: 0.06225, Acc: 1.0\n",
      "Epoch [21/100], Loss: 0.06941, Acc: 1.0\n",
      "Epoch [31/100], Loss: 0.04761, Acc: 1.0\n",
      "Epoch [41/100], Loss: 0.03726, Acc: 0.99\n",
      "Epoch [51/100], Loss: 0.05584, Acc: 0.99\n",
      "Epoch [61/100], Loss: 0.008831, Acc: 1.0\n",
      "Epoch [71/100], Loss: 0.2832, Acc: 0.87\n",
      "Epoch [81/100], Loss: 0.0114, Acc: 1.0\n",
      "Epoch [91/100], Loss: 0.129, Acc: 0.96\n",
      "Evaluating model...\n",
      "Loss: 0.2605, Acc: 0.87\n",
      "\n",
      "Subject:  7\n",
      "Epoch [1/100], Loss: 0.4451, Acc: 0.78\n",
      "Epoch [11/100], Loss: 0.08271, Acc: 1.0\n",
      "Epoch [21/100], Loss: 0.09129, Acc: 0.97\n",
      "Epoch [31/100], Loss: 0.0717, Acc: 0.99\n",
      "Epoch [41/100], Loss: 0.1229, Acc: 0.96\n",
      "Epoch [51/100], Loss: 0.1587, Acc: 0.95\n",
      "Epoch [61/100], Loss: 0.1332, Acc: 0.95\n",
      "Epoch [71/100], Loss: 0.1403, Acc: 0.97\n",
      "Epoch [81/100], Loss: 0.07673, Acc: 0.99\n",
      "Epoch [91/100], Loss: 0.09539, Acc: 0.99\n",
      "Evaluating model...\n",
      "Loss: 0.08981, Acc: 0.97\n",
      "\n",
      "Subject:  8\n",
      "Epoch [1/100], Loss: 0.5212, Acc: 0.85\n",
      "Epoch [11/100], Loss: 0.08198, Acc: 0.97\n",
      "Epoch [21/100], Loss: 0.08362, Acc: 0.97\n",
      "Epoch [31/100], Loss: 0.0385, Acc: 0.99\n",
      "Epoch [41/100], Loss: 0.06075, Acc: 0.97\n",
      "Epoch [51/100], Loss: 0.03975, Acc: 0.99\n",
      "Epoch [61/100], Loss: 0.2306, Acc: 0.9\n",
      "Epoch [71/100], Loss: 0.075, Acc: 0.96\n",
      "Epoch [81/100], Loss: 0.0881, Acc: 0.96\n",
      "Epoch [91/100], Loss: 0.06817, Acc: 0.97\n",
      "Evaluating model...\n",
      "Loss: 0.07475, Acc: 0.96\n",
      "\n",
      "Subject:  9\n",
      "Epoch [1/100], Loss: 0.5853, Acc: 0.71\n",
      "Epoch [11/100], Loss: 0.05968, Acc: 0.99\n",
      "Epoch [21/100], Loss: 0.08754, Acc: 0.99\n",
      "Epoch [31/100], Loss: 0.06588, Acc: 0.99\n",
      "Epoch [41/100], Loss: 0.03234, Acc: 1.0\n",
      "Epoch [51/100], Loss: 0.06895, Acc: 0.97\n",
      "Epoch [61/100], Loss: 0.05193, Acc: 0.97\n",
      "Epoch [71/100], Loss: 0.01397, Acc: 1.0\n",
      "Epoch [81/100], Loss: 0.01883, Acc: 1.0\n",
      "Epoch [91/100], Loss: 0.009241, Acc: 1.0\n",
      "Evaluating model...\n",
      "Loss: 0.04445, Acc: 0.97\n",
      "\n",
      "Subject:  10\n",
      "Epoch [1/100], Loss: 0.5553, Acc: 0.74\n",
      "Epoch [11/100], Loss: 0.07059, Acc: 0.99\n",
      "Epoch [21/100], Loss: 0.07932, Acc: 0.98\n",
      "Epoch [31/100], Loss: 0.1605, Acc: 0.93\n",
      "Epoch [41/100], Loss: 0.02552, Acc: 1.0\n",
      "Epoch [51/100], Loss: 0.01078, Acc: 1.0\n",
      "Epoch [61/100], Loss: 0.03512, Acc: 1.0\n",
      "Epoch [71/100], Loss: 0.003884, Acc: 1.0\n",
      "Epoch [81/100], Loss: 0.01805, Acc: 1.0\n",
      "Epoch [91/100], Loss: 0.02165, Acc: 1.0\n",
      "Evaluating model...\n",
      "Loss: 0.01052, Acc: 1.0\n",
      "\n",
      "Subject:  11\n",
      "Epoch [1/100], Loss: 0.6747, Acc: 0.65\n",
      "Epoch [11/100], Loss: 0.466, Acc: 0.75\n",
      "Epoch [21/100], Loss: 0.3135, Acc: 0.85\n",
      "Epoch [31/100], Loss: 0.3431, Acc: 0.85\n",
      "Epoch [41/100], Loss: 0.3889, Acc: 0.81\n",
      "Epoch [51/100], Loss: 0.3992, Acc: 0.8\n",
      "Epoch [61/100], Loss: 0.5713, Acc: 0.78\n",
      "Epoch [71/100], Loss: 0.3817, Acc: 0.85\n",
      "Epoch [81/100], Loss: 0.4051, Acc: 0.81\n",
      "Epoch [91/100], Loss: 0.2972, Acc: 0.84\n",
      "Evaluating model...\n",
      "Loss: 0.6716, Acc: 0.73\n",
      "\n",
      "Subject:  13\n",
      "Epoch [1/100], Loss: 0.3657, Acc: 0.94\n",
      "Epoch [11/100], Loss: 0.5902, Acc: 0.7\n",
      "Epoch [21/100], Loss: 0.3795, Acc: 0.82\n",
      "Epoch [31/100], Loss: 0.08025, Acc: 0.96\n",
      "Epoch [41/100], Loss: 0.7414, Acc: 0.75\n",
      "Epoch [51/100], Loss: 0.01549, Acc: 1.0\n",
      "Epoch [61/100], Loss: 0.2373, Acc: 0.89\n",
      "Epoch [71/100], Loss: 0.1845, Acc: 0.92\n",
      "Epoch [81/100], Loss: 0.09219, Acc: 0.96\n",
      "Epoch [91/100], Loss: 0.09643, Acc: 0.97\n",
      "Evaluating model...\n",
      "Loss: 0.1293, Acc: 0.96\n",
      "\n",
      "Subject:  14\n",
      "Epoch [1/100], Loss: 0.6217, Acc: 0.65\n",
      "Epoch [11/100], Loss: 0.4362, Acc: 0.8\n",
      "Epoch [21/100], Loss: 0.4751, Acc: 0.85\n",
      "Epoch [31/100], Loss: 0.7199, Acc: 0.78\n",
      "Epoch [41/100], Loss: 1.087, Acc: 0.8\n",
      "Epoch [51/100], Loss: 0.9414, Acc: 0.8\n",
      "Epoch [61/100], Loss: 1.271, Acc: 0.8\n",
      "Epoch [71/100], Loss: 1.02, Acc: 0.8\n",
      "Epoch [81/100], Loss: 1.109, Acc: 0.8\n",
      "Epoch [91/100], Loss: 1.329, Acc: 0.81\n",
      "Evaluating model...\n",
      "Loss: 1.523, Acc: 0.8\n",
      "\n",
      "Subject:  15\n",
      "Epoch [1/100], Loss: 0.6543, Acc: 0.67\n",
      "Epoch [11/100], Loss: 0.2597, Acc: 0.91\n",
      "Epoch [21/100], Loss: 0.01599, Acc: 1.0\n",
      "Epoch [31/100], Loss: 0.04073, Acc: 1.0\n",
      "Epoch [41/100], Loss: 0.0343, Acc: 0.99\n",
      "Epoch [51/100], Loss: 0.04243, Acc: 0.99\n",
      "Epoch [61/100], Loss: 0.007266, Acc: 1.0\n",
      "Epoch [71/100], Loss: 0.004437, Acc: 1.0\n",
      "Epoch [81/100], Loss: 0.01978, Acc: 0.99\n",
      "Epoch [91/100], Loss: 0.00993, Acc: 1.0\n",
      "Evaluating model...\n",
      "Loss: 0.1095, Acc: 0.97\n",
      "\n",
      "Subject:  16\n",
      "Epoch [1/100], Loss: 0.7556, Acc: 0.7\n",
      "Epoch [11/100], Loss: 0.08066, Acc: 1.0\n",
      "Epoch [21/100], Loss: 0.03335, Acc: 1.0\n",
      "Epoch [31/100], Loss: 0.01541, Acc: 1.0\n",
      "Epoch [41/100], Loss: 0.01057, Acc: 1.0\n",
      "Epoch [51/100], Loss: 0.01143, Acc: 1.0\n",
      "Epoch [61/100], Loss: 0.07327, Acc: 0.96\n",
      "Epoch [71/100], Loss: 0.01371, Acc: 1.0\n",
      "Epoch [81/100], Loss: 0.0545, Acc: 0.97\n",
      "Epoch [91/100], Loss: 0.005325, Acc: 1.0\n",
      "Evaluating model...\n",
      "Loss: 0.04645, Acc: 0.97\n",
      "\n",
      "Subject:  17\n",
      "Epoch [1/100], Loss: 0.6613, Acc: 0.68\n",
      "Epoch [11/100], Loss: 1.25, Acc: 0.47\n",
      "Epoch [21/100], Loss: 1.304, Acc: 0.46\n",
      "Epoch [31/100], Loss: 1.204, Acc: 0.46\n",
      "Epoch [41/100], Loss: 1.272, Acc: 0.51\n",
      "Epoch [51/100], Loss: 0.8769, Acc: 0.52\n",
      "Epoch [61/100], Loss: 1.141, Acc: 0.49\n",
      "Epoch [71/100], Loss: 1.353, Acc: 0.62\n",
      "Epoch [81/100], Loss: 1.201, Acc: 0.51\n",
      "Epoch [91/100], Loss: 1.172, Acc: 0.58\n",
      "Evaluating model...\n",
      "Loss: 1.268, Acc: 0.53\n"
     ]
    }
   ],
   "execution_count": 10
  },
  {
   "cell_type": "code",
   "metadata": {
    "ExecuteTime": {
     "end_time": "2024-07-02T05:55:54.174352Z",
     "start_time": "2024-07-02T05:55:54.129618Z"
    }
   },
   "source": [
    "np.mean(test_accs)"
   ],
   "outputs": [
    {
     "data": {
      "text/plain": [
       "0.8873333333333334"
      ]
     },
     "execution_count": 11,
     "metadata": {},
     "output_type": "execute_result"
    }
   ],
   "execution_count": 11
  },
  {
   "cell_type": "code",
   "metadata": {
    "ExecuteTime": {
     "end_time": "2024-07-02T05:55:54.183582Z",
     "start_time": "2024-07-02T05:55:54.174352Z"
    }
   },
   "source": [
    "np.mean(test_losses)"
   ],
   "outputs": [
    {
     "data": {
      "text/plain": [
       "0.34836703343837294"
      ]
     },
     "execution_count": 12,
     "metadata": {},
     "output_type": "execute_result"
    }
   ],
   "execution_count": 12
  },
  {
   "cell_type": "code",
   "metadata": {
    "ExecuteTime": {
     "end_time": "2024-07-02T05:55:54.225965Z",
     "start_time": "2024-07-02T05:55:54.183582Z"
    }
   },
   "source": [
    "df['label'].value_counts()"
   ],
   "outputs": [
    {
     "data": {
      "text/plain": [
       "label\n",
       "0    823\n",
       "1    355\n",
       "Name: count, dtype: int64"
      ]
     },
     "execution_count": 13,
     "metadata": {},
     "output_type": "execute_result"
    }
   ],
   "execution_count": 13
  },
  {
   "cell_type": "code",
   "metadata": {
    "ExecuteTime": {
     "end_time": "2024-07-02T05:55:55.049550Z",
     "start_time": "2024-07-02T05:55:54.225965Z"
    }
   },
   "source": [
    "plt.figure(figsize=(14, 6))\n",
    "plt.title('Testing Accuracies in Leave One Out Cross Validation by Subject Left Out as Testing Data')\n",
    "sns.barplot(x=subject_id_list, y=test_accs);"
   ],
   "outputs": [
    {
     "data": {
      "text/plain": [
       "<Figure size 1400x600 with 1 Axes>"
      ],
      "image/png": "[encoded data removed]"
     },
     "metadata": {},
     "output_type": "display_data"
    }
   ],
   "execution_count": 14
  },
  {
   "cell_type": "code",
   "metadata": {
    "ExecuteTime": {
     "end_time": "2024-07-02T05:55:55.436107Z",
     "start_time": "2024-07-02T05:55:55.051057Z"
    }
   },
   "source": [
    "plt.figure(figsize=(14, 3))\n",
    "plt.title('Testing Losses in Leave One Out Cross Validation by Subject Left Out as Testing Data')\n",
    "sns.barplot(x=subject_id_list, y=test_losses);"
   ],
   "outputs": [
    {
     "data": {
      "text/plain": [
       "<Figure size 1400x300 with 1 Axes>"
      ],
      "image/png": "[encoded data removed]"
     },
     "metadata": {},
     "output_type": "display_data"
    }
   ],
   "execution_count": 15
  },
  {
   "cell_type": "code",
   "metadata": {
    "ExecuteTime": {
     "end_time": "2024-07-02T05:55:55.444434Z",
     "start_time": "2024-07-02T05:55:55.436107Z"
    }
   },
   "source": [
    "#infodf = pd.read_csv('data/WESAD/readmes.csv', index_col=0)\n",
    "#infodf.sort_index()"
   ],
   "outputs": [],
   "execution_count": 16
  },
  {
   "cell_type": "markdown",
   "metadata": {},
   "source": [
    "## Training Visualization"
   ]
  },
  {
   "cell_type": "code",
   "metadata": {
    "ExecuteTime": {
     "end_time": "2024-07-02T05:55:55.455811Z",
     "start_time": "2024-07-02T05:55:55.444434Z"
    }
   },
   "source": [
    "len(histories)"
   ],
   "outputs": [
    {
     "data": {
      "text/plain": [
       "15"
      ]
     },
     "execution_count": 17,
     "metadata": {},
     "output_type": "execute_result"
    }
   ],
   "execution_count": 17
  },
  {
   "cell_type": "markdown",
   "metadata": {},
   "source": [
    "## Model Evaluation"
   ]
  },
  {
   "cell_type": "code",
   "metadata": {
    "ExecuteTime": {
     "end_time": "2024-07-02T05:55:59.672983Z",
     "start_time": "2024-07-02T05:55:55.455811Z"
    }
   },
   "source": [
    "plt.figure(figsize=(15,10))\n",
    "\n",
    "for i in range(15):\n",
    "    plt.subplot(4,5 ,i+1)\n",
    "    cm = confusion_matrices[i]\n",
    "    \n",
    "    \n",
    "    sns.heatmap(cm, annot=True, fmt='d', cbar=False);\n",
    "    plt.title(f'S{subject_id_list[i]}')\n",
    "    plt.xlabel('Prediction');\n",
    "    plt.ylabel('Ground Truth');\n",
    "plt.tight_layout();"
   ],
   "outputs": [
    {
     "data": {
      "text/plain": [
       "<Figure size 1500x1000 with 15 Axes>"
      ],
      "image/png": "[encoded data removed]"
     },
     "metadata": {},
     "output_type": "display_data"
    }
   ],
   "execution_count": 18
  },
  {
   "cell_type": "code",
   "metadata": {
    "ExecuteTime": {
     "end_time": "2024-07-02T06:26:28.620278Z",
     "start_time": "2024-07-02T06:26:27.159962Z"
    }
   },
   "source": [
    "from sklearn.metrics import classification_report\n",
    "\n",
    "target_names = ['Amusement', 'Baseline', 'Stress']\n",
    "print(classification_report(y_true, y_pred, target_names=target_names))"
   ],
   "outputs": [
    {
     "ename": "NameError",
     "evalue": "name 'y_true' is not defined",
     "output_type": "error",
     "traceback": [
      "\u001B[1;31m---------------------------------------------------------------------------\u001B[0m",
      "\u001B[1;31mNameError\u001B[0m                                 Traceback (most recent call last)",
      "Cell \u001B[1;32mIn[21], line 4\u001B[0m\n\u001B[0;32m      1\u001B[0m \u001B[38;5;28;01mfrom\u001B[39;00m \u001B[38;5;21;01msklearn\u001B[39;00m\u001B[38;5;21;01m.\u001B[39;00m\u001B[38;5;21;01mmetrics\u001B[39;00m \u001B[38;5;28;01mimport\u001B[39;00m classification_report\n\u001B[0;32m      3\u001B[0m target_names \u001B[38;5;241m=\u001B[39m [\u001B[38;5;124m'\u001B[39m\u001B[38;5;124mAmusement\u001B[39m\u001B[38;5;124m'\u001B[39m, \u001B[38;5;124m'\u001B[39m\u001B[38;5;124mBaseline\u001B[39m\u001B[38;5;124m'\u001B[39m, \u001B[38;5;124m'\u001B[39m\u001B[38;5;124mStress\u001B[39m\u001B[38;5;124m'\u001B[39m]\n\u001B[1;32m----> 4\u001B[0m \u001B[38;5;28mprint\u001B[39m(classification_report(\u001B[43my_true\u001B[49m, y_pred, target_names\u001B[38;5;241m=\u001B[39mtarget_names))\n",
      "\u001B[1;31mNameError\u001B[0m: name 'y_true' is not defined"
     ]
    }
   ],
   "execution_count": 21
  },
  {
   "cell_type": "code",
   "metadata": {
    "ExecuteTime": {
     "end_time": "2024-07-02T06:26:45.734749Z",
     "start_time": "2024-07-02T06:26:45.696943Z"
    }
   },
   "source": "torch.save(model.state_dict(), 'm13_model.pt')",
   "outputs": [],
   "execution_count": 22
  },
  {
   "cell_type": "code",
   "metadata": {
    "ExecuteTime": {
     "end_time": "2024-07-02T05:55:59.694695Z",
     "start_time": "2024-07-02T05:55:59.689442Z"
    }
   },
   "source": [],
   "outputs": [],
   "execution_count": 20
  }
 ],
 "metadata": {
  "kernelspec": {
   "display_name": "Python 3",
   "language": "python",
   "name": "python3"
  },
  "language_info": {
   "codemirror_mode": {
    "name": "ipython",
    "version": 3
   },
   "file_extension": ".py",
   "mimetype": "text/x-python",
   "name": "python",
   "nbconvert_exporter": "python",
   "pygments_lexer": "ipython3",
   "version": "3.6.8"
  }
 },
 "nbformat": 4,
 "nbformat_minor": 2
}
